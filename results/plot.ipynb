{
 "cells": [
  {
   "cell_type": "code",
   "execution_count": 17,
   "metadata": {},
   "outputs": [],
   "source": [
    "import re\n",
    "import json\n",
    "\n",
    "# The data as a string (assuming it's read from a file or another source)\n",
    "data = \"[EXP] 0: [success_rate]: False, [progress_rate]: 0.5, [grounding_acc]: 0.7333333333333333, [score_state]: [{'self_evaluation_score': 1.0, 'self_model_score': 0.75}, {'self_evaluation_score': 0.25, 'self_model_score': 1.0}, {'self_evaluation_score': 0.75, 'self_model_score': 0.75}, {'self_evaluation_score': 1.0, 'self_model_score': 0.25}, {'self_evaluation_score': 1.0, 'self_model_score': 0.75}, {'self_evaluation_score': 1.0, 'self_model_score': 0.25}, {'self_evaluation_score': 0.0, 'self_model_score': 0.75}, {'self_evaluation_score': 0.0, 'self_model_score': 0.75}, {'self_evaluation_score': 0.25, 'self_model_score': 0.75}, {'self_evaluation_score': 0.5, 'self_model_score': 0.75}, {'self_evaluation_score': 0.5, 'self_model_score': 0.75}, {'self_evaluation_score': 0.25, 'self_model_score': 0.75}, {'self_evaluation_score': 0.0, 'self_model_score': 0.75}, {'self_evaluation_score': 0.5, 'self_model_score': 0.75}, {'self_evaluation_score': 1.0, 'self_model_score': 0.75}], [evaluation_state]: [(0, 0.25), (8, 0.5)]\"\n",
    "\n",
    "def parse_line(data):\n",
    "# Use regular expressions to extract values\n",
    "    exp_number = int(re.search(r\"\\[EXP\\] (\\d+)\", data).group(1))\n",
    "    success_rate = re.search(r\"\\[success_rate\\]: (\\w+)\", data).group(1) == 'True'\n",
    "    progress_rate = float(re.search(r\"\\[progress_rate\\]: ([\\d.]+)\", data).group(1))\n",
    "    grounding_acc = float(re.search(r\"\\[grounding_acc\\]: ([\\d.]+)\", data).group(1))\n",
    "    score_state_str = re.search(r\"\\[score_state\\]: (\\[.*?\\])\", data, re.DOTALL).group(1)\n",
    "    \n",
    "    # for (i, score) in evaluation_state:\n",
    "    #     for j in range(i, 15):\n",
    "    #         progress_state[j] = max(score, progress_state[j])\n",
    "    return progress_rate,success_rate, grounding_acc"
   ]
  },
  {
   "cell_type": "code",
   "execution_count": 18,
   "metadata": {},
   "outputs": [],
   "source": [
    "file_path = 'deepseek_react_4_22/pddl.txt'\n",
    "progress_rates = []\n",
    "success_rates = []\n",
    "grounding_accs = []\n",
    "with open(file_path, 'r') as f:\n",
    "    for line in f:\n",
    "        if '[EXP]' in line:\n",
    "            progress_rate, success_rate, grounding_acc = parse_line(line)\n",
    "            progress_rates.append(progress_rate)\n",
    "            success_rates.append(success_rate)\n",
    "            grounding_accs.append(grounding_acc)"
   ]
  },
  {
   "cell_type": "code",
   "execution_count": 19,
   "metadata": {},
   "outputs": [
    {
     "data": {
      "text/plain": [
       "0.48928345373237003"
      ]
     },
     "execution_count": 19,
     "metadata": {},
     "output_type": "execute_result"
    }
   ],
   "source": [
    "sum(grounding_accs)/60"
   ]
  }
 ],
 "metadata": {
  "kernelspec": {
   "display_name": "agent2",
   "language": "python",
   "name": "python3"
  },
  "language_info": {
   "codemirror_mode": {
    "name": "ipython",
    "version": 3
   },
   "file_extension": ".py",
   "mimetype": "text/x-python",
   "name": "python",
   "nbconvert_exporter": "python",
   "pygments_lexer": "ipython3",
   "version": "3.8.19"
  },
  "orig_nbformat": 4
 },
 "nbformat": 4,
 "nbformat_minor": 2
}
